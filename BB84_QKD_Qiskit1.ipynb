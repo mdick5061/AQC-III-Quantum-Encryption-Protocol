{
 "cells": [
  {
   "cell_type": "markdown",
   "id": "c19fd2d9",
   "metadata": {},
   "source": [
    "# Alice & Bob — BB84 QKD (Qiskit ≥ 1.1 compatible)\n",
    "This notebook is updated for **Qiskit 1.x**: it replaces the removed\n",
    "`qiskit.execute` helper, switches to `AerSimulator`, and explicitly transpiles\n",
    "circuits before calling `backend.run()`.  Everything else works exactly as\n",
    "before — read an image, establish a one‑time‑pad key via BB 84, encrypt it, and\n",
    "have Bob decrypt it."
   ]
  },
  {
   "cell_type": "code",
   "execution_count": 1,
   "id": "82882066",
   "metadata": {},
   "outputs": [],
   "source": [
    "\n",
    "import secrets, pathlib, numpy as np, base64\n",
    "from qiskit import QuantumCircuit, transpile\n",
    "from qiskit_aer import AerSimulator\n",
    "backend = AerSimulator()            # new API (replaces qasm_simulator)\n",
    "rng = secrets.SystemRandom()\n"
   ]
  },
  {
   "cell_type": "code",
   "execution_count": 2,
   "id": "5ec16d72",
   "metadata": {},
   "outputs": [],
   "source": [
    "\n",
    "# — user tweakables —\n",
    "IMG_PATH        = pathlib.Path('download.png')\n",
    "BLOCK_SIZE      = 5\n",
    "ABORT_THRESHOLD = 0.11\n",
    "SAMPLE_RATE     = 0.10\n"
   ]
  },
  {
   "cell_type": "code",
   "execution_count": 3,
   "id": "9163d45e",
   "metadata": {},
   "outputs": [
    {
     "name": "stdout",
     "output_type": "stream",
     "text": [
      "Image size: 3,844 bytes (30,752 bits)\n"
     ]
    }
   ],
   "source": [
    "\n",
    "if not IMG_PATH.exists():\n",
    "    raise FileNotFoundError(f'Missing {IMG_PATH}. Drop an image or edit IMG_PATH.')\n",
    "img_bytes  = IMG_PATH.read_bytes()\n",
    "n_img_bits = len(img_bytes)*8\n",
    "print(f'Image size: {len(img_bytes):,} bytes ({n_img_bits:,} bits)')\n"
   ]
  },
  {
   "cell_type": "code",
   "execution_count": 4,
   "id": "b2654f1c",
   "metadata": {},
   "outputs": [],
   "source": [
    "\n",
    "def random_bits(n):\n",
    "    return (np.random.randint(2, size=n, dtype=np.uint8),\n",
    "            np.random.randint(2, size=n, dtype=np.uint8))  # data, bases\n",
    "\n",
    "def alice_circuit(bits, bases):\n",
    "    qc = QuantumCircuit(len(bits), name='Alice')\n",
    "    for i,(bit,basis) in enumerate(zip(bits,bases)):\n",
    "        if bit: qc.x(i)\n",
    "        if basis: qc.h(i)\n",
    "    return qc\n",
    "\n",
    "def bob_measure(alice_qc, bob_bases):\n",
    "    n = len(bob_bases)\n",
    "    qc_bob = QuantumCircuit(n, n, name='Bob')\n",
    "    for i,basis in enumerate(bob_bases):\n",
    "        if basis: qc_bob.h(i)\n",
    "        qc_bob.measure(i,i)\n",
    "    full = alice_qc.compose(qc_bob)\n",
    "    compiled = transpile(full, backend)\n",
    "    result   = backend.run(compiled, shots=1).result()\n",
    "    bitstr   = next(iter(result.get_counts()))\n",
    "    return np.fromiter(map(int, bitstr[::-1]), dtype=np.uint8)\n",
    "\n",
    "def hamming(a,b): return np.count_nonzero(a!=b)\n"
   ]
  },
  {
   "cell_type": "code",
   "execution_count": 5,
   "id": "6326440e",
   "metadata": {},
   "outputs": [
    {
     "name": "stdout",
     "output_type": "stream",
     "text": [
      "Round 13609: 30,754/30752 key bits \n",
      "Key done: 30,752 bits\n"
     ]
    }
   ],
   "source": [
    "\n",
    "alice_key = []\n",
    "bob_key   = []\n",
    "rounds    = 0\n",
    "\n",
    "while len(alice_key) < n_img_bits:\n",
    "    rounds += 1\n",
    "    data_A, bases_A = random_bits(BLOCK_SIZE)\n",
    "    qc = alice_circuit(data_A, bases_A)\n",
    "\n",
    "    bases_B = np.random.randint(2, size=BLOCK_SIZE, dtype=np.uint8)\n",
    "    meas_B  = bob_measure(qc, bases_B)\n",
    "\n",
    "    keep_mask = bases_A == bases_B\n",
    "    sift_A    = data_A[keep_mask]\n",
    "    sift_B    = meas_B[keep_mask]\n",
    "\n",
    "    sample_mask = np.random.rand(len(sift_A)) < SAMPLE_RATE\n",
    "    qber = hamming(sift_A[sample_mask], sift_B[sample_mask]) / max(1, sample_mask.sum())\n",
    "    if qber > ABORT_THRESHOLD:\n",
    "        raise RuntimeError(f'ABORT — QBER {qber:.2%} exceeds {ABORT_THRESHOLD:.0%}')\n",
    "\n",
    "    sift_A = sift_A[~sample_mask]\n",
    "    sift_B = sift_B[~sample_mask]\n",
    "    match  = sift_A == sift_B\n",
    "    alice_key.extend(sift_A[match].tolist())\n",
    "    bob_key  .extend(sift_B[match].tolist())\n",
    "    print(f'Round {rounds:>3}: {len(alice_key):,}/{n_img_bits} key bits \\r', end='')\n",
    "\n",
    "alice_key = np.array(alice_key[:n_img_bits], dtype=np.uint8)\n",
    "bob_key   = np.array(bob_key  [:n_img_bits], dtype=np.uint8)\n",
    "assert np.array_equal(alice_key, bob_key)\n",
    "print(f'\\nKey done: {len(alice_key):,} bits')\n"
   ]
  },
  {
   "cell_type": "code",
   "execution_count": 6,
   "id": "9d88411a",
   "metadata": {},
   "outputs": [
    {
     "name": "stdout",
     "output_type": "stream",
     "text": [
      "✅ Success — decrypted image identical.\n"
     ]
    }
   ],
   "source": [
    "\n",
    "def bits_to_bytes(bits):\n",
    "    out = bytearray()\n",
    "    for i in range(0,len(bits),8):\n",
    "        byte = 0\n",
    "        for j in range(8):\n",
    "            if i+j < len(bits):\n",
    "                byte = (byte << 1) | int(bits[i+j])\n",
    "        out.append(byte)\n",
    "    return bytes(out)\n",
    "\n",
    "key_bytes = bits_to_bytes(alice_key)\n",
    "cipher    = bytes(m ^ k for m,k in zip(img_bytes, key_bytes))\n",
    "\n",
    "enc_path = IMG_PATH.with_suffix('.enc')\n",
    "enc_path.write_bytes(cipher)\n",
    "\n",
    "# Bob decrypts\n",
    "dec_bytes = bytes(c ^ k for c,k in zip(cipher, key_bytes))\n",
    "dec_path  = IMG_PATH.with_stem(IMG_PATH.stem + '_decrypted')\n",
    "dec_path.write_bytes(dec_bytes)\n",
    "assert dec_bytes == img_bytes\n",
    "print('\\u2705 Success — decrypted image identical.')\n"
   ]
  },
  {
   "cell_type": "markdown",
   "id": "69cd7c6f",
   "metadata": {},
   "source": [
    "\n",
    "## Security Demonstration – Detecting an Eavesdropper (Eve)\n",
    "\n",
    "The BB84 protocol detects an **intercept‑resend eavesdropper** through the *quantum bit‑error rate* (QBER).\n",
    "\n",
    "* Eve randomly chooses a basis for each qubit she intercepts.  \n",
    "* Whenever she guesses the **wrong** basis (50 % of the time) she collapses the qubit into the wrong state.  \n",
    "* Even if Bob later measures in the correct basis, the qubit is already disturbed and Bob’s result is wrong half of those times.  \n",
    "* Overall **​25 % QBER** is introduced, well above any realistic abort threshold (often ≤ 11 %).\n",
    "\n",
    "The following simulation confirms this and prints the QBER with and without Eve for 2 000 qubits.\n"
   ]
  },
  {
   "cell_type": "code",
   "execution_count": 7,
   "id": "e1f0f40f",
   "metadata": {},
   "outputs": [
    {
     "name": "stdout",
     "output_type": "stream",
     "text": [
      "QBER (no Eve):  0.00 %\n",
      "QBER (with Eve): 25.00 %\n"
     ]
    }
   ],
   "source": [
    "\n",
    "import numpy as np\n",
    "from math import isclose\n",
    "\n",
    "def simulate_bb84(n_bits=2000, eavesdrop=False, rng=np.random.default_rng()):\n",
    "    # 1. Alice's random bits & bases (0 = Z, 1 = X)\n",
    "    alice_bits  = rng.integers(0, 2, size=n_bits, dtype=np.uint8)\n",
    "    alice_basis = rng.integers(0, 2, size=n_bits, dtype=np.uint8)\n",
    "\n",
    "    # 2. Bob's random bases\n",
    "    bob_basis   = rng.integers(0, 2, size=n_bits, dtype=np.uint8)\n",
    "    bob_bits    = np.zeros(n_bits, dtype=np.uint8)\n",
    "\n",
    "    if not eavesdrop:\n",
    "        # Honest channel (noise‑free)\n",
    "        for i in range(n_bits):\n",
    "            if bob_basis[i] == alice_basis[i]:\n",
    "                bob_bits[i] = alice_bits[i]          # deterministic\n",
    "            else:\n",
    "                bob_bits[i] = rng.integers(0, 2)     # random (will be discarded)\n",
    "    else:\n",
    "        # Eve intercept‑resend\n",
    "        eve_basis = rng.integers(0, 2, size=n_bits, dtype=np.uint8)\n",
    "        for i in range(n_bits):\n",
    "            # Eve measures\n",
    "            if eve_basis[i] == alice_basis[i]:\n",
    "                eve_bit = alice_bits[i]\n",
    "            else:\n",
    "                eve_bit = rng.integers(0, 2)\n",
    "\n",
    "            # Eve resends qubit in her basis/state; Bob measures\n",
    "            if bob_basis[i] == eve_basis[i]:\n",
    "                bob_bits[i] = eve_bit\n",
    "            else:\n",
    "                bob_bits[i] = rng.integers(0, 2)\n",
    "\n",
    "    # 3. Sifting – keep only indices where bases matched\n",
    "    keep = alice_basis == bob_basis\n",
    "    if not np.any(keep):\n",
    "        return np.nan  # no sifted bits (very unlikely for n_bits ≫ 1)\n",
    "\n",
    "    qber = np.mean(alice_bits[keep] != bob_bits[keep])\n",
    "    return qber\n",
    "\n",
    "qber_clean = simulate_bb84(eavesdrop=False)\n",
    "qber_eave  = simulate_bb84(eavesdrop=True)\n",
    "\n",
    "print(f\"QBER (no Eve):  {qber_clean*100:.2f} %\")\n",
    "print(f\"QBER (with Eve): {qber_eave*100:.2f} %\")\n"
   ]
  },
  {
   "cell_type": "markdown",
   "id": "1ba4cd37",
   "metadata": {},
   "source": [
    "\n",
    "**Expected result**\n",
    "\n",
    "```\n",
    "QBER (no Eve):   0.00 %\n",
    "QBER (with Eve): ~25.00 %\n",
    "```\n",
    "\n",
    "Any significant deviation above the background error rate (often a few %) signals Eve’s presence, so Alice and Bob abort the protocol.\n"
   ]
  },
  {
   "cell_type": "markdown",
   "id": "c3e6a816",
   "metadata": {},
   "source": [
    "\n",
    "## Visualization – Measurement Outcomes in Matching vs Mismatching Bases\n",
    "The next cell illustrates how measuring a qubit in the **wrong basis** gives a random outcome, whereas measuring in the **correct basis** reproduces the encoded bit with certainty.\n"
   ]
  },
  {
   "cell_type": "code",
   "execution_count": 12,
   "id": "00b916b1",
   "metadata": {},
   "outputs": [
    {
     "name": "stdout",
     "output_type": "stream",
     "text": [
      "Counts (correct basis, Z): {'0': 1024}\n",
      "Counts (wrong basis, X):   {'0': 507, '1': 517}\n"
     ]
    },
    {
     "data": {
      "image/png": "[encoded data removed]",
      "text/plain": [
       "<Figure size 640x480 with 1 Axes>"
      ]
     },
     "metadata": {},
     "output_type": "display_data"
    }
   ],
   "source": [
    "from qiskit import QuantumCircuit, transpile\n",
    "from qiskit_aer import AerSimulator\n",
    "from qiskit.visualization import plot_histogram\n",
    "\n",
    "backend = AerSimulator()\n",
    "%matplotlib inline\n",
    "# Prepare |0⟩ and measure in Z basis\n",
    "qc_z = QuantumCircuit(1, 1)\n",
    "qc_z.measure(0, 0)\n",
    "res_z = backend.run(transpile(qc_z, backend), shots=1024).result().get_counts()\n",
    "\n",
    "# Prepare |0⟩, apply H (|+⟩), and measure in X basis\n",
    "qc_x = QuantumCircuit(1, 1)\n",
    "qc_x.h(0)\n",
    "qc_x.measure(0, 0)\n",
    "res_x = backend.run(transpile(qc_x, backend), shots=1024).result().get_counts()\n",
    "\n",
    "print(\"Counts (correct basis, Z):\", res_z)\n",
    "print(\"Counts (wrong basis, X):  \", res_x)\n",
    "\n",
    "# — plot —\n",
    "fig = plot_histogram(\n",
    "    [res_z, res_x],\n",
    "    legend=['Correct basis (Z)', 'Wrong basis (X)']\n",
    ")\n",
    "fig.show()    "
   ]
  }
 ],
 "metadata": {
  "kernelspec": {
   "display_name": "Python 3",
   "language": "python",
   "name": "python3"
  },
  "language_info": {
   "codemirror_mode": {
    "name": "ipython",
    "version": 3
   },
   "file_extension": ".py",
   "mimetype": "text/x-python",
   "name": "python",
   "nbconvert_exporter": "python",
   "pygments_lexer": "ipython3",
   "version": "3.13.2"
  }
 },
 "nbformat": 4,
 "nbformat_minor": 5
}
