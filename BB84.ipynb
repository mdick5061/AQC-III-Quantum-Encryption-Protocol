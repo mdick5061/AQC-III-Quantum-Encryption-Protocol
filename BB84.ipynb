{
 "cells": [
  {
   "cell_type": "markdown",
   "id": "c19fd2d9",
   "metadata": {},
   "source": [
    "# BB84 QKD with QBER Estimation\n",
    "\n",
    "This notebook implements the BB84 prepare-and-measure quantum key distribution protocol\n",
    "end-to-end. It simulates Alice’s random bit and basis preparation, Bob’s random basis\n",
    "measurements, basis reconciliation and sifting, and then computes the Quantum Bit Error Rate\n",
    "(QBER) on a sampled subset of the sifted key to detect any potential eavesdropping.\n"
   ]
  },
  {
   "cell_type": "markdown",
   "id": "9429777b-a9aa-4fa4-8136-ede063ac22ec",
   "metadata": {},
   "source": [
    "## 1. Imports & Setup"
   ]
  },
  {
   "cell_type": "code",
   "execution_count": 30,
   "id": "e4620b05-9d37-4c8d-a9c6-80dacbb4bf4c",
   "metadata": {
    "collapsed": true,
    "jupyter": {
     "outputs_hidden": true
    },
    "tags": []
   },
   "outputs": [
    {
     "name": "stdout",
     "output_type": "stream",
     "text": [
      "Defaulting to user installation because normal site-packages is not writeable\n",
      "Requirement already satisfied: qiskit in /home/tadros0/.local/lib/python3.9/site-packages (2.0.0)\n",
      "Requirement already satisfied: python-dateutil>=2.8.0 in /apps/cent7/jupyterhub/lib/python3.9/site-packages (from qiskit) (2.8.2)\n",
      "Requirement already satisfied: rustworkx>=0.15.0 in /home/tadros0/.local/lib/python3.9/site-packages (from qiskit) (0.16.0)\n",
      "Requirement already satisfied: sympy>=1.3 in /apps/cent7/jupyterhub/lib/python3.9/site-packages (from qiskit) (1.9)\n",
      "Requirement already satisfied: typing-extensions in /home/tadros0/.local/lib/python3.9/site-packages (from qiskit) (4.13.2)\n",
      "Requirement already satisfied: scipy>=1.5 in /apps/cent7/jupyterhub/lib/python3.9/site-packages (from qiskit) (1.7.1)\n",
      "Requirement already satisfied: symengine<0.14,>=0.11 in /home/tadros0/.local/lib/python3.9/site-packages (from qiskit) (0.13.0)\n",
      "Requirement already satisfied: dill>=0.3 in /home/tadros0/.local/lib/python3.9/site-packages (from qiskit) (0.4.0)\n",
      "Requirement already satisfied: numpy<3,>=1.17 in /apps/cent7/jupyterhub/lib/python3.9/site-packages (from qiskit) (1.20.3)\n",
      "Requirement already satisfied: stevedore>=3.0.0 in /home/tadros0/.local/lib/python3.9/site-packages (from qiskit) (5.4.1)\n",
      "Requirement already satisfied: six>=1.5 in /apps/cent7/jupyterhub/lib/python3.9/site-packages (from python-dateutil>=2.8.0->qiskit) (1.16.0)\n",
      "Requirement already satisfied: pbr>=2.0.0 in /home/tadros0/.local/lib/python3.9/site-packages (from stevedore>=3.0.0->qiskit) (6.1.1)\n",
      "Requirement already satisfied: setuptools in /apps/cent7/jupyterhub/lib/python3.9/site-packages (from pbr>=2.0.0->stevedore>=3.0.0->qiskit) (58.0.4)\n",
      "Requirement already satisfied: mpmath>=0.19 in /apps/cent7/jupyterhub/lib/python3.9/site-packages (from sympy>=1.3->qiskit) (1.2.1)\n",
      "Note: you may need to restart the kernel to use updated packages.\n",
      "Defaulting to user installation because normal site-packages is not writeable\n",
      "Requirement already satisfied: typing_extensions in /home/tadros0/.local/lib/python3.9/site-packages (4.13.2)\n",
      "Note: you may need to restart the kernel to use updated packages.\n",
      "Defaulting to user installation because normal site-packages is not writeable\n",
      "Requirement already satisfied: qiskit-aer in /home/tadros0/.local/lib/python3.9/site-packages (0.17.0)\n",
      "Requirement already satisfied: psutil>=5 in /apps/cent7/jupyterhub/lib/python3.9/site-packages (from qiskit-aer) (5.8.0)\n",
      "Requirement already satisfied: qiskit>=1.1.0 in /home/tadros0/.local/lib/python3.9/site-packages (from qiskit-aer) (2.0.0)\n",
      "Requirement already satisfied: numpy>=1.16.3 in /apps/cent7/jupyterhub/lib/python3.9/site-packages (from qiskit-aer) (1.20.3)\n",
      "Requirement already satisfied: scipy>=1.0 in /apps/cent7/jupyterhub/lib/python3.9/site-packages (from qiskit-aer) (1.7.1)\n",
      "Requirement already satisfied: sympy>=1.3 in /apps/cent7/jupyterhub/lib/python3.9/site-packages (from qiskit>=1.1.0->qiskit-aer) (1.9)\n",
      "Requirement already satisfied: stevedore>=3.0.0 in /home/tadros0/.local/lib/python3.9/site-packages (from qiskit>=1.1.0->qiskit-aer) (5.4.1)\n",
      "Requirement already satisfied: python-dateutil>=2.8.0 in /apps/cent7/jupyterhub/lib/python3.9/site-packages (from qiskit>=1.1.0->qiskit-aer) (2.8.2)\n",
      "Requirement already satisfied: dill>=0.3 in /home/tadros0/.local/lib/python3.9/site-packages (from qiskit>=1.1.0->qiskit-aer) (0.4.0)\n",
      "Requirement already satisfied: symengine<0.14,>=0.11 in /home/tadros0/.local/lib/python3.9/site-packages (from qiskit>=1.1.0->qiskit-aer) (0.13.0)\n",
      "Requirement already satisfied: typing-extensions in /home/tadros0/.local/lib/python3.9/site-packages (from qiskit>=1.1.0->qiskit-aer) (4.13.2)\n",
      "Requirement already satisfied: rustworkx>=0.15.0 in /home/tadros0/.local/lib/python3.9/site-packages (from qiskit>=1.1.0->qiskit-aer) (0.16.0)\n",
      "Requirement already satisfied: six>=1.5 in /apps/cent7/jupyterhub/lib/python3.9/site-packages (from python-dateutil>=2.8.0->qiskit>=1.1.0->qiskit-aer) (1.16.0)\n",
      "Requirement already satisfied: pbr>=2.0.0 in /home/tadros0/.local/lib/python3.9/site-packages (from stevedore>=3.0.0->qiskit>=1.1.0->qiskit-aer) (6.1.1)\n",
      "Requirement already satisfied: setuptools in /apps/cent7/jupyterhub/lib/python3.9/site-packages (from pbr>=2.0.0->stevedore>=3.0.0->qiskit>=1.1.0->qiskit-aer) (58.0.4)\n",
      "Requirement already satisfied: mpmath>=0.19 in /apps/cent7/jupyterhub/lib/python3.9/site-packages (from sympy>=1.3->qiskit>=1.1.0->qiskit-aer) (1.2.1)\n",
      "Note: you may need to restart the kernel to use updated packages.\n",
      "Defaulting to user installation because normal site-packages is not writeable\n",
      "Requirement already satisfied: pylatexenc in /home/tadros0/.local/lib/python3.9/site-packages (2.10)\n",
      "Note: you may need to restart the kernel to use updated packages.\n"
     ]
    }
   ],
   "source": [
    "%pip install qiskit\n",
    "%pip install --upgrade typing_extensions\n",
    "%pip install qiskit-aer\n",
    "%pip install pylatexenc"
   ]
  },
  {
   "cell_type": "code",
   "execution_count": 22,
   "id": "82882066",
   "metadata": {},
   "outputs": [],
   "source": [
    "import secrets\n",
    "import pathlib\n",
    "import numpy as np\n",
    "from qiskit import QuantumCircuit, transpile\n",
    "from qiskit_aer import AerSimulator\n",
    "\n",
    "# Simulator backend\n",
    "backend = AerSimulator()\n",
    "rng = secrets.SystemRandom()"
   ]
  },
  {
   "cell_type": "markdown",
   "id": "65cbbd1e-2036-4ccb-b8d0-a2534c5b6bb9",
   "metadata": {},
   "source": [
    "## 2. Parameters"
   ]
  },
  {
   "cell_type": "code",
   "execution_count": 23,
   "id": "5ec16d72",
   "metadata": {},
   "outputs": [
    {
     "name": "stdout",
     "output_type": "stream",
     "text": [
      "Image bits to secure: 30752\n"
     ]
    }
   ],
   "source": [
    "# User parameters\n",
    "IMG_PATH        = pathlib.Path('download.png')\n",
    "BLOCK_SIZE      = 10\n",
    "ABORT_THRESHOLD = 0.11\n",
    "SAMPLE_RATE     = 0.10\n",
    "\n",
    "# Ensure image exists and read bytes\n",
    "if not IMG_PATH.exists():\n",
    "    raise FileNotFoundError(f'Missing {IMG_PATH}')\n",
    "\n",
    "# Read the bytes from the image\n",
    "img_bytes  = IMG_PATH.read_bytes()\n",
    "n_img_bits = len(img_bytes) * 8\n",
    "print(f\"Image bits to secure: {n_img_bits}\")"
   ]
  },
  {
   "cell_type": "markdown",
   "id": "2e07ee9b-e48e-4402-bb59-1da9eef1a157",
   "metadata": {},
   "source": [
    "## 3. Utility Functions"
   ]
  },
  {
   "cell_type": "code",
   "execution_count": 24,
   "id": "b2654f1c",
   "metadata": {},
   "outputs": [],
   "source": [
    "# Random n bits generator\n",
    "def random_bits(n):\n",
    "    return np.random.randint(2, size=n, dtype=np.uint8)\n",
    "\n",
    "# Return the Hamming distance (number of differing elements) between arrays a and b\n",
    "def hamming(a,b): \n",
    "    return np.count_nonzero(a!=b)\n",
    "\n",
    "# Turns bits into bytes using numpy\n",
    "def bits_to_bytes(bits):\n",
    "    arr    = np.array(bits, dtype=np.uint8)\n",
    "    packed = np.packbits(arr)\n",
    "    return packed.tobytes()"
   ]
  },
  {
   "cell_type": "markdown",
   "id": "70df5192-454c-4102-8cdb-0c56439ec131",
   "metadata": {},
   "source": [
    "## 4. BB84 Emitter & Measurement Circuits"
   ]
  },
  {
   "cell_type": "code",
   "execution_count": 25,
   "id": "be914a49-2da3-44b5-9a3b-e735763ea64a",
   "metadata": {},
   "outputs": [],
   "source": [
    "def alice_circuit(bits, bases):\n",
    "    qc = QuantumCircuit(len(bits), name='Alice')\n",
    "    for i,(bit,basis) in enumerate(zip(bits,bases)):\n",
    "        if bit: qc.x(i)\n",
    "        if basis: qc.h(i)\n",
    "    return qc\n",
    "\n",
    "def bob_measure(alice_qc, bob_bases):\n",
    "    n = len(bob_bases)\n",
    "    qc_bob = QuantumCircuit(n, n, name='Bob')\n",
    "    for i,basis in enumerate(bob_bases):\n",
    "        if basis: qc_bob.h(i)\n",
    "        qc_bob.measure(i,i)\n",
    "    full = alice_qc.compose(qc_bob)\n",
    "    compiled = transpile(full, backend)\n",
    "    result   = backend.run(compiled, shots=1).result()\n",
    "    bitstr   = next(iter(result.get_counts()))\n",
    "    return np.fromiter(map(int, bitstr[::-1]), dtype=np.uint8)"
   ]
  },
  {
   "cell_type": "code",
   "execution_count": 26,
   "id": "d0fcfde9-b427-44d3-8298-860e6bcd72b1",
   "metadata": {
    "tags": []
   },
   "outputs": [
    {
     "data": {
      "image/png": "[encoded data removed]",
      "text/plain": [
       "<Figure size 1008x432 with 2 Axes>"
      ]
     },
     "metadata": {},
     "output_type": "display_data"
    }
   ],
   "source": [
    "import matplotlib.pyplot as plt\n",
    "from qiskit import QuantumCircuit\n",
    "from qiskit.visualization import circuit_drawer\n",
    "\n",
    "bits        = [0, 1, 0, 1]        \n",
    "alice_bases = [0, 1, 0, 1]        \n",
    "bob_bases   = [1, 0, 1, 0]       \n",
    "\n",
    "qc_alice = alice_circuit(bits, alice_bases)\n",
    "\n",
    "n = len(bob_bases)\n",
    "qc_bob  = QuantumCircuit(n, n, name='Bob')\n",
    "for i, basis in enumerate(bob_bases):\n",
    "    if basis:\n",
    "        qc_bob.h(i)\n",
    "    qc_bob.measure(i, i)\n",
    "\n",
    "fig, (ax1, ax2) = plt.subplots(1, 2, figsize=(14, 6))\n",
    "\n",
    "circuit_drawer(qc_alice, output='mpl', ax=ax1)\n",
    "ax1.set_title(\"Alice’s BB84 Preparation\", fontsize=14)\n",
    "\n",
    "circuit_drawer(qc_bob, output='mpl', ax=ax2)\n",
    "ax2.set_title(\"Bob’s BB84 Measurement\", fontsize=14)\n",
    "\n",
    "plt.tight_layout()\n",
    "plt.show()"
   ]
  },
  {
   "cell_type": "markdown",
   "id": "c37aca4f-ad55-46f0-83cd-079a859f0c7b",
   "metadata": {},
   "source": [
    "## 5. Run Protocol & Collect Data"
   ]
  },
  {
   "cell_type": "code",
   "execution_count": 29,
   "id": "6326440e",
   "metadata": {},
   "outputs": [
    {
     "name": "stdout",
     "output_type": "stream",
     "text": [
      "Round 6850: collected 30727 bits\n",
      "Key done: 30,752 bits\n"
     ]
    }
   ],
   "source": [
    "alice_key = []\n",
    "bob_key   = []\n",
    "rounds    = 0\n",
    "\n",
    "while len(alice_key) < n_img_bits:\n",
    "    # Increments round count and generates random basis for each side\n",
    "    rounds += 1\n",
    "    data_A = random_bits(BLOCK_SIZE)\n",
    "    bases_A = random_bits(BLOCK_SIZE)\n",
    "    \n",
    "    # Alice prepares qubits and Bob measures in his random bases\n",
    "    qc = alice_circuit(data_A, bases_A)\n",
    "\n",
    "    bases_B = random_bits(BLOCK_SIZE)\n",
    "    meas_B  = bob_measure(qc, bases_B)\n",
    "\n",
    "    # Sift: keep only bits where bases matched\n",
    "    keep_mask = bases_A == bases_B\n",
    "    sift_A    = data_A[keep_mask]\n",
    "    sift_B    = meas_B[keep_mask]\n",
    "\n",
    "    # Sample a subset to estimate QBER and abort if too high\n",
    "    sample_mask = np.random.rand(len(sift_A)) < SAMPLE_RATE\n",
    "    qber = hamming(sift_A[sample_mask], sift_B[sample_mask]) / max(1, sample_mask.sum())\n",
    "    if qber > ABORT_THRESHOLD:\n",
    "        raise RuntimeError(f'ABORT — QBER {qber:.2%} exceeds {ABORT_THRESHOLD:.0%}')\n",
    "    \n",
    "    # Remove sampled bits and keep only perfectly matching bits\n",
    "    sift_A = sift_A[~sample_mask]\n",
    "    sift_B = sift_B[~sample_mask]\n",
    "    match  = sift_A == sift_B\n",
    "    \n",
    "    # Append to the raw key\n",
    "    alice_key.extend(sift_A[match].tolist())\n",
    "    bob_key  .extend(sift_B[match].tolist())\n",
    "    \n",
    "    if rounds % 10 == 0:\n",
    "        print(f\"Round {rounds}: collected {len(alice_key)} bits\", end='\\r')\n",
    "\n",
    "alice_key = np.array(alice_key[:n_img_bits], dtype=np.uint8)\n",
    "bob_key   = np.array(bob_key  [:n_img_bits], dtype=np.uint8)\n",
    "print(f'\\nKey done: {len(alice_key):,} bits')"
   ]
  },
  {
   "cell_type": "markdown",
   "id": "249b0b9b-1528-4780-877d-2f969ae3fe33",
   "metadata": {},
   "source": [
    "## 6. Encrypt & Decrypt Image"
   ]
  },
  {
   "cell_type": "code",
   "execution_count": 32,
   "id": "9d88411a",
   "metadata": {},
   "outputs": [
    {
     "name": "stdout",
     "output_type": "stream",
     "text": [
      "✅ Image encrypted and decrypted successfully!\n"
     ]
    }
   ],
   "source": [
    "# Use the sifted key\n",
    "key_bytes = bits_to_bytes(alice_key)\n",
    "cipher    = bytes(m ^ k for m,k in zip(img_bytes, key_bytes))\n",
    "\n",
    "# Bob decrypts\n",
    "dec_bytes = bytes(c ^ k for c,k in zip(cipher, key_bytes))\n",
    "dec_path  = IMG_PATH.with_stem(IMG_PATH.stem + '_decrypted')\n",
    "dec_path.write_bytes(dec_bytes)\n",
    "\n",
    "if dec_bytes == img_bytes:\n",
    "    print(\"✅ Image encrypted and decrypted successfully!\")"
   ]
  },
  {
   "cell_type": "markdown",
   "id": "69cd7c6f",
   "metadata": {},
   "source": [
    "\n",
    "## Security Demonstration – Detecting an Eavesdropper (Eve)\n",
    "\n",
    "The BB84 protocol detects an **intercept‑resend eavesdropper** through the *quantum bit‑error rate* (QBER).\n",
    "\n",
    "* Eve randomly chooses a basis for each qubit she intercepts.  \n",
    "* Whenever she guesses the **wrong** basis (50 % of the time) she collapses the qubit into the wrong state.  \n",
    "* Even if Bob later measures in the correct basis, the qubit is already disturbed and Bob’s result is wrong half of those times.  \n",
    "* Overall **​25 % QBER** is introduced, well above any realistic abort threshold (often ≤ 11 %).\n",
    "\n",
    "The following simulation confirms this and prints the QBER with and without Eve for 2 000 qubits.\n"
   ]
  },
  {
   "cell_type": "code",
   "execution_count": 7,
   "id": "e1f0f40f",
   "metadata": {},
   "outputs": [
    {
     "name": "stdout",
     "output_type": "stream",
     "text": [
      "QBER (no Eve):  0.00 %\n",
      "QBER (with Eve): 25.00 %\n"
     ]
    }
   ],
   "source": [
    "import numpy as np\n",
    "from math import isclose\n",
    "\n",
    "def simulate_bb84(n_bits=2000, eavesdrop=False, rng=np.random.default_rng()):\n",
    "    # 1. Alice's random bits & bases (0 = Z, 1 = X)\n",
    "    alice_bits  = rng.integers(0, 2, size=n_bits, dtype=np.uint8)\n",
    "    alice_basis = rng.integers(0, 2, size=n_bits, dtype=np.uint8)\n",
    "\n",
    "    # 2. Bob's random bases\n",
    "    bob_basis   = rng.integers(0, 2, size=n_bits, dtype=np.uint8)\n",
    "    bob_bits    = np.zeros(n_bits, dtype=np.uint8)\n",
    "\n",
    "    if not eavesdrop:\n",
    "        # Honest channel (noise‑free)\n",
    "        for i in range(n_bits):\n",
    "            if bob_basis[i] == alice_basis[i]:\n",
    "                bob_bits[i] = alice_bits[i]          # deterministic\n",
    "            else:\n",
    "                bob_bits[i] = rng.integers(0, 2)     # random (will be discarded)\n",
    "    else:\n",
    "        # Eve intercept‑resend\n",
    "        eve_basis = rng.integers(0, 2, size=n_bits, dtype=np.uint8)\n",
    "        for i in range(n_bits):\n",
    "            # Eve measures\n",
    "            if eve_basis[i] == alice_basis[i]:\n",
    "                eve_bit = alice_bits[i]\n",
    "            else:\n",
    "                eve_bit = rng.integers(0, 2)\n",
    "\n",
    "            # Eve resends qubit in her basis/state; Bob measures\n",
    "            if bob_basis[i] == eve_basis[i]:\n",
    "                bob_bits[i] = eve_bit\n",
    "            else:\n",
    "                bob_bits[i] = rng.integers(0, 2)\n",
    "\n",
    "    # Sifting – keep only indices where bases matched\n",
    "    keep = alice_basis == bob_basis\n",
    "    if not np.any(keep):\n",
    "        return np.nan  # no sifted bits (very unlikely for n_bits ≫ 1)\n",
    "\n",
    "    qber = np.mean(alice_bits[keep] != bob_bits[keep])\n",
    "    return qber\n",
    "\n",
    "qber_clean = simulate_bb84(eavesdrop=False)\n",
    "qber_eave  = simulate_bb84(eavesdrop=True)\n",
    "\n",
    "print(f\"QBER (no Eve):  {qber_clean*100:.2f} %\")\n",
    "print(f\"QBER (with Eve): {qber_eave*100:.2f} %\")"
   ]
  },
  {
   "cell_type": "markdown",
   "id": "1ba4cd37",
   "metadata": {},
   "source": [
    "\n",
    "**Expected result**\n",
    "\n",
    "```\n",
    "QBER (no Eve):   0.00 %\n",
    "QBER (with Eve): ~25.00 %\n",
    "```\n",
    "\n",
    "Any significant deviation above the background error rate (often a few %) signals Eve’s presence, so Alice and Bob abort the protocol.\n"
   ]
  }
 ],
 "metadata": {
  "kernelspec": {
   "display_name": "Python 3.9 (Default)",
   "language": "python",
   "name": "python3"
  },
  "language_info": {
   "codemirror_mode": {
    "name": "ipython",
    "version": 3
   },
   "file_extension": ".py",
   "mimetype": "text/x-python",
   "name": "python",
   "nbconvert_exporter": "python",
   "pygments_lexer": "ipython3",
   "version": "3.9.7"
  }
 },
 "nbformat": 4,
 "nbformat_minor": 5
}
