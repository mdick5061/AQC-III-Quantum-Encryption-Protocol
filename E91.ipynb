{
 "cells": [
  {
   "cell_type": "markdown",
   "id": "13a86f1b",
   "metadata": {},
   "source": [
    "# QKD Image Encryption Project\n",
    "\n",
    "This notebook implements both BB84 and E91 key distribution protocols and image encryption."
   ]
  },
  {
   "cell_type": "code",
   "execution_count": 3,
   "id": "96266684-d76a-46f8-bc0d-5271cc1a29b4",
   "metadata": {},
   "outputs": [
    {
     "name": "stdout",
     "output_type": "stream",
     "text": [
      "Defaulting to user installation because normal site-packages is not writeable\n",
      "Requirement already satisfied: qiskit in /home/tadros0/.local/lib/python3.9/site-packages (2.0.0)\n",
      "Requirement already satisfied: typing-extensions in /home/tadros0/.local/lib/python3.9/site-packages (from qiskit) (4.13.2)\n",
      "Requirement already satisfied: python-dateutil>=2.8.0 in /apps/cent7/jupyterhub/lib/python3.9/site-packages (from qiskit) (2.8.2)\n",
      "Requirement already satisfied: sympy>=1.3 in /apps/cent7/jupyterhub/lib/python3.9/site-packages (from qiskit) (1.9)\n",
      "Requirement already satisfied: symengine<0.14,>=0.11 in /home/tadros0/.local/lib/python3.9/site-packages (from qiskit) (0.13.0)\n",
      "Requirement already satisfied: rustworkx>=0.15.0 in /home/tadros0/.local/lib/python3.9/site-packages (from qiskit) (0.16.0)\n",
      "Requirement already satisfied: numpy<3,>=1.17 in /apps/cent7/jupyterhub/lib/python3.9/site-packages (from qiskit) (1.20.3)\n",
      "Requirement already satisfied: stevedore>=3.0.0 in /home/tadros0/.local/lib/python3.9/site-packages (from qiskit) (5.4.1)\n",
      "Requirement already satisfied: dill>=0.3 in /home/tadros0/.local/lib/python3.9/site-packages (from qiskit) (0.4.0)\n",
      "Requirement already satisfied: scipy>=1.5 in /apps/cent7/jupyterhub/lib/python3.9/site-packages (from qiskit) (1.7.1)\n",
      "Requirement already satisfied: six>=1.5 in /apps/cent7/jupyterhub/lib/python3.9/site-packages (from python-dateutil>=2.8.0->qiskit) (1.16.0)\n",
      "Requirement already satisfied: pbr>=2.0.0 in /home/tadros0/.local/lib/python3.9/site-packages (from stevedore>=3.0.0->qiskit) (6.1.1)\n",
      "Requirement already satisfied: setuptools in /apps/cent7/jupyterhub/lib/python3.9/site-packages (from pbr>=2.0.0->stevedore>=3.0.0->qiskit) (58.0.4)\n",
      "Requirement already satisfied: mpmath>=0.19 in /apps/cent7/jupyterhub/lib/python3.9/site-packages (from sympy>=1.3->qiskit) (1.2.1)\n",
      "Note: you may need to restart the kernel to use updated packages.\n",
      "Defaulting to user installation because normal site-packages is not writeable\n",
      "Requirement already satisfied: typing_extensions in /home/tadros0/.local/lib/python3.9/site-packages (4.13.2)\n",
      "Note: you may need to restart the kernel to use updated packages.\n",
      "Defaulting to user installation because normal site-packages is not writeable\n",
      "Collecting qiskit-aer\n",
      "  Downloading qiskit_aer-0.17.0-cp39-cp39-manylinux_2_17_x86_64.manylinux2014_x86_64.whl (12.4 MB)\n",
      "\u001b[K     |████████████████████████████████| 12.4 MB 6.4 MB/s eta 0:00:01\n",
      "\u001b[?25hRequirement already satisfied: qiskit>=1.1.0 in /home/tadros0/.local/lib/python3.9/site-packages (from qiskit-aer) (2.0.0)\n",
      "Requirement already satisfied: numpy>=1.16.3 in /apps/cent7/jupyterhub/lib/python3.9/site-packages (from qiskit-aer) (1.20.3)\n",
      "Requirement already satisfied: psutil>=5 in /apps/cent7/jupyterhub/lib/python3.9/site-packages (from qiskit-aer) (5.8.0)\n",
      "Requirement already satisfied: scipy>=1.0 in /apps/cent7/jupyterhub/lib/python3.9/site-packages (from qiskit-aer) (1.7.1)\n",
      "Requirement already satisfied: rustworkx>=0.15.0 in /home/tadros0/.local/lib/python3.9/site-packages (from qiskit>=1.1.0->qiskit-aer) (0.16.0)\n",
      "Requirement already satisfied: symengine<0.14,>=0.11 in /home/tadros0/.local/lib/python3.9/site-packages (from qiskit>=1.1.0->qiskit-aer) (0.13.0)\n",
      "Requirement already satisfied: typing-extensions in /home/tadros0/.local/lib/python3.9/site-packages (from qiskit>=1.1.0->qiskit-aer) (4.13.2)\n",
      "Requirement already satisfied: dill>=0.3 in /home/tadros0/.local/lib/python3.9/site-packages (from qiskit>=1.1.0->qiskit-aer) (0.4.0)\n",
      "Requirement already satisfied: sympy>=1.3 in /apps/cent7/jupyterhub/lib/python3.9/site-packages (from qiskit>=1.1.0->qiskit-aer) (1.9)\n",
      "Requirement already satisfied: python-dateutil>=2.8.0 in /apps/cent7/jupyterhub/lib/python3.9/site-packages (from qiskit>=1.1.0->qiskit-aer) (2.8.2)\n",
      "Requirement already satisfied: stevedore>=3.0.0 in /home/tadros0/.local/lib/python3.9/site-packages (from qiskit>=1.1.0->qiskit-aer) (5.4.1)\n",
      "Requirement already satisfied: six>=1.5 in /apps/cent7/jupyterhub/lib/python3.9/site-packages (from python-dateutil>=2.8.0->qiskit>=1.1.0->qiskit-aer) (1.16.0)\n",
      "Requirement already satisfied: pbr>=2.0.0 in /home/tadros0/.local/lib/python3.9/site-packages (from stevedore>=3.0.0->qiskit>=1.1.0->qiskit-aer) (6.1.1)\n",
      "Requirement already satisfied: setuptools in /apps/cent7/jupyterhub/lib/python3.9/site-packages (from pbr>=2.0.0->stevedore>=3.0.0->qiskit>=1.1.0->qiskit-aer) (58.0.4)\n",
      "Requirement already satisfied: mpmath>=0.19 in /apps/cent7/jupyterhub/lib/python3.9/site-packages (from sympy>=1.3->qiskit>=1.1.0->qiskit-aer) (1.2.1)\n",
      "Installing collected packages: qiskit-aer\n",
      "Successfully installed qiskit-aer-0.17.0\n",
      "Note: you may need to restart the kernel to use updated packages.\n"
     ]
    }
   ],
   "source": [
    "%pip install qiskit\n",
    "%pip install --upgrade typing_extensions\n",
    "%pip install qiskit-aer"
   ]
  },
  {
   "cell_type": "markdown",
   "id": "3518a164",
   "metadata": {},
   "source": [
    "## 1. Imports & Setup"
   ]
  },
  {
   "cell_type": "code",
   "execution_count": 4,
   "id": "9903a478",
   "metadata": {},
   "outputs": [],
   "source": [
    "\n",
    "import secrets\n",
    "import pathlib\n",
    "import numpy as np\n",
    "from qiskit import QuantumCircuit, transpile\n",
    "from qiskit_aer import AerSimulator\n",
    "\n",
    "# Simulator backend\n",
    "backend = AerSimulator()\n",
    "rng = secrets.SystemRandom()\n",
    "    "
   ]
  },
  {
   "cell_type": "markdown",
   "id": "462b3eda",
   "metadata": {},
   "source": [
    "## 2. User Parameters"
   ]
  },
  {
   "cell_type": "code",
   "execution_count": 6,
   "id": "68c2302a",
   "metadata": {},
   "outputs": [
    {
     "name": "stdout",
     "output_type": "stream",
     "text": [
      "Image size: 3,844 bytes (30,752 bits)\n"
     ]
    }
   ],
   "source": [
    "\n",
    "# User tweakables\n",
    "IMG_PATH        = pathlib.Path('download.png')\n",
    "BLOCK_SIZE      = 5\n",
    "ABORT_THRESHOLD = 0.11\n",
    "SAMPLE_RATE     = 0.10\n",
    "\n",
    "if not IMG_PATH.exists():\n",
    "    raise FileNotFoundError(f'Missing {IMG_PATH}')\n",
    "img_bytes  = IMG_PATH.read_bytes()\n",
    "n_img_bits = len(img_bytes) * 8\n",
    "print(f'Image size: {len(img_bytes):,} bytes ({n_img_bits:,} bits)')\n",
    "    "
   ]
  },
  {
   "cell_type": "markdown",
   "id": "86fb7178",
   "metadata": {},
   "source": [
    "## 3. Utility Functions"
   ]
  },
  {
   "cell_type": "code",
   "execution_count": 7,
   "id": "c8d9e4c0",
   "metadata": {},
   "outputs": [],
   "source": [
    "\n",
    "def random_bits(n):\n",
    "    return (np.random.randint(2, size=n, dtype=np.uint8),\n",
    "            np.random.randint(2, size=n, dtype=np.uint8))\n",
    "\n",
    "def hamming(a, b):\n",
    "    return np.count_nonzero(a != b)\n",
    "\n",
    "def bits_to_bytes(bits):\n",
    "    out = bytearray()\n",
    "    for i in range(0, len(bits), 8):\n",
    "        byte = 0\n",
    "        for j in range(8):\n",
    "            if i + j < len(bits):\n",
    "                byte = (byte << 1) | int(bits[i + j])\n",
    "        out.append(byte)\n",
    "    return bytes(out)\n",
    "    "
   ]
  },
  {
   "cell_type": "markdown",
   "id": "a1f67006",
   "metadata": {},
   "source": [
    "## 4. E91 Emitter Circuit"
   ]
  },
  {
   "cell_type": "code",
   "execution_count": 8,
   "id": "9e64842d",
   "metadata": {},
   "outputs": [],
   "source": [
    "\n",
    "def emitter_circuit(source_bits, source_bases): \n",
    "    size = len(source_bases)\n",
    "    qc = QuantumCircuit(2*size, 2*size, name='Emitter')\n",
    "    for i, (bit, basis) in enumerate(zip(source_bits, source_bases)):\n",
    "        qc.x(i); qc.h(i); qc.x(i+size); qc.cx(i, i+size)\n",
    "        if bit: qc.x(i); qc.x(i+size)\n",
    "        if basis: qc.h(i); qc.h(i+size)\n",
    "    return qc\n",
    "    "
   ]
  },
  {
   "cell_type": "markdown",
   "id": "b164732f",
   "metadata": {},
   "source": [
    "## 5. Measurement Circuit"
   ]
  },
  {
   "cell_type": "code",
   "execution_count": 9,
   "id": "0c85ac16",
   "metadata": {},
   "outputs": [],
   "source": [
    "\n",
    "def measure_circuit(alice_bases, bob_bases): \n",
    "    size = len(alice_bases)\n",
    "    qc = QuantumCircuit(2*size, 2*size, name='Measure')\n",
    "    for i in range(size):\n",
    "        if alice_bases[i]: qc.h(i)\n",
    "        if bob_bases[i]: qc.h(i+size)\n",
    "    return qc\n",
    "    "
   ]
  },
  {
   "cell_type": "markdown",
   "id": "504f9ce8",
   "metadata": {},
   "source": [
    "## 6. Full Protocol Execution"
   ]
  },
  {
   "cell_type": "code",
   "execution_count": null,
   "id": "fd23f017",
   "metadata": {},
   "outputs": [
    {
     "name": "stdout",
     "output_type": "stream",
     "text": [
      "Round 6111: 15,403/30752 key bits\r"
     ]
    }
   ],
   "source": [
    "\n",
    "def full_quantum_circuit(source_bits, source_bases, alice_bases, bob_bases):\n",
    "    ec = emitter_circuit(source_bits, source_bases)\n",
    "    mc = measure_circuit(alice_bases, bob_bases)\n",
    "    return ec.compose(mc)\n",
    "\n",
    "def exec_protocol():\n",
    "    alice_key, bob_key = [], []\n",
    "    rounds = 0\n",
    "    while len(alice_key) < n_img_bits:\n",
    "        rounds += 1\n",
    "        bits_S, bases_S = random_bits(BLOCK_SIZE)\n",
    "        bases_A, bases_B = random_bits(BLOCK_SIZE)\n",
    "        qc = full_quantum_circuit(bits_S, bases_S, bases_A, bases_B)\n",
    "        qc.measure(range(2*BLOCK_SIZE), range(2*BLOCK_SIZE))\n",
    "        compiled = transpile(qc, backend)\n",
    "        result = backend.run(compiled, shots=1).result()\n",
    "        bitstr = next(iter(result.get_counts()))\n",
    "        meas = np.fromiter(map(int, bitstr[::-1]), dtype=np.uint8)\n",
    "        meas_A = meas[:BLOCK_SIZE]; meas_B = meas[BLOCK_SIZE:]\n",
    "        keep = np.array(bases_A) == np.array(bases_B)\n",
    "        alice_key.extend(meas_A[keep].tolist())\n",
    "        bob_key.extend((1 ^ meas_B[keep]).tolist())\n",
    "        print(f'Round {rounds}: {len(alice_key):,}/{n_img_bits} key bits', end='\\r')\n",
    "    alice_key = np.array(alice_key[:n_img_bits], dtype=np.uint8)\n",
    "    key_bytes = bits_to_bytes(alice_key)\n",
    "    cipher = bytes(m ^ k for m, k in zip(img_bytes, key_bytes))\n",
    "    pathlib.Path('download.enc').write_bytes(cipher)\n",
    "    dec = bytes(c ^ k for c, k in zip(cipher, key_bytes))\n",
    "    pathlib.Path('download_decrypted.png').write_bytes(dec)\n",
    "    assert dec == img_bytes\n",
    "    print('\\n✅ Completed.') \n",
    "\n",
    "exec_protocol()\n",
    "    "
   ]
  },
  {
   "cell_type": "code",
   "execution_count": null,
   "id": "380a30e2-8334-43c2-8c5f-bc077eec1c4e",
   "metadata": {},
   "outputs": [],
   "source": []
  }
 ],
 "metadata": {
  "kernelspec": {
   "display_name": "Python 3.9 (Default)",
   "language": "python",
   "name": "python3"
  },
  "language_info": {
   "codemirror_mode": {
    "name": "ipython",
    "version": 3
   },
   "file_extension": ".py",
   "mimetype": "text/x-python",
   "name": "python",
   "nbconvert_exporter": "python",
   "pygments_lexer": "ipython3",
   "version": "3.9.7"
  }
 },
 "nbformat": 4,
 "nbformat_minor": 5
}
