{
 "cells": [
  {
   "cell_type": "markdown",
   "id": "f68b7b58",
   "metadata": {},
   "source": [
    "# E91 QKD with Bell‐Inequality Test\n",
    "This notebook implements the E91 entanglement-based QKD protocol\n",
    "and applies a CHSH Bell‐inequality test to detect eavesdroppers."
   ]
  },
  {
   "cell_type": "markdown",
   "id": "6cb2b9a2",
   "metadata": {},
   "source": [
    "## 1. Imports & Setup"
   ]
  },
  {
   "cell_type": "code",
   "execution_count": 38,
   "id": "584ff24f-38f0-487e-a085-d87159d57891",
   "metadata": {
    "collapsed": true,
    "jupyter": {
     "outputs_hidden": true
    },
    "tags": []
   },
   "outputs": [
    {
     "name": "stdout",
     "output_type": "stream",
     "text": [
      "Defaulting to user installation because normal site-packages is not writeable\n",
      "Requirement already satisfied: qiskit in /home/tadros0/.local/lib/python3.9/site-packages (2.0.0)\n",
      "Requirement already satisfied: python-dateutil>=2.8.0 in /apps/cent7/jupyterhub/lib/python3.9/site-packages (from qiskit) (2.8.2)\n",
      "Requirement already satisfied: rustworkx>=0.15.0 in /home/tadros0/.local/lib/python3.9/site-packages (from qiskit) (0.16.0)\n",
      "Requirement already satisfied: numpy<3,>=1.17 in /apps/cent7/jupyterhub/lib/python3.9/site-packages (from qiskit) (1.20.3)\n",
      "Requirement already satisfied: stevedore>=3.0.0 in /home/tadros0/.local/lib/python3.9/site-packages (from qiskit) (5.4.1)\n",
      "Requirement already satisfied: scipy>=1.5 in /apps/cent7/jupyterhub/lib/python3.9/site-packages (from qiskit) (1.7.1)\n",
      "Requirement already satisfied: dill>=0.3 in /home/tadros0/.local/lib/python3.9/site-packages (from qiskit) (0.4.0)\n",
      "Requirement already satisfied: symengine<0.14,>=0.11 in /home/tadros0/.local/lib/python3.9/site-packages (from qiskit) (0.13.0)\n",
      "Requirement already satisfied: typing-extensions in /home/tadros0/.local/lib/python3.9/site-packages (from qiskit) (4.13.2)\n",
      "Requirement already satisfied: sympy>=1.3 in /apps/cent7/jupyterhub/lib/python3.9/site-packages (from qiskit) (1.9)\n",
      "Requirement already satisfied: six>=1.5 in /apps/cent7/jupyterhub/lib/python3.9/site-packages (from python-dateutil>=2.8.0->qiskit) (1.16.0)\n",
      "Requirement already satisfied: pbr>=2.0.0 in /home/tadros0/.local/lib/python3.9/site-packages (from stevedore>=3.0.0->qiskit) (6.1.1)\n",
      "Requirement already satisfied: setuptools in /apps/cent7/jupyterhub/lib/python3.9/site-packages (from pbr>=2.0.0->stevedore>=3.0.0->qiskit) (58.0.4)\n",
      "Requirement already satisfied: mpmath>=0.19 in /apps/cent7/jupyterhub/lib/python3.9/site-packages (from sympy>=1.3->qiskit) (1.2.1)\n",
      "Note: you may need to restart the kernel to use updated packages.\n",
      "Defaulting to user installation because normal site-packages is not writeable\n",
      "Requirement already satisfied: typing_extensions in /home/tadros0/.local/lib/python3.9/site-packages (4.13.2)\n",
      "Note: you may need to restart the kernel to use updated packages.\n",
      "Defaulting to user installation because normal site-packages is not writeable\n",
      "Requirement already satisfied: qiskit-aer in /home/tadros0/.local/lib/python3.9/site-packages (0.17.0)\n",
      "Requirement already satisfied: qiskit>=1.1.0 in /home/tadros0/.local/lib/python3.9/site-packages (from qiskit-aer) (2.0.0)\n",
      "Requirement already satisfied: psutil>=5 in /apps/cent7/jupyterhub/lib/python3.9/site-packages (from qiskit-aer) (5.8.0)\n",
      "Requirement already satisfied: scipy>=1.0 in /apps/cent7/jupyterhub/lib/python3.9/site-packages (from qiskit-aer) (1.7.1)\n",
      "Requirement already satisfied: numpy>=1.16.3 in /apps/cent7/jupyterhub/lib/python3.9/site-packages (from qiskit-aer) (1.20.3)\n",
      "Requirement already satisfied: dill>=0.3 in /home/tadros0/.local/lib/python3.9/site-packages (from qiskit>=1.1.0->qiskit-aer) (0.4.0)\n",
      "Requirement already satisfied: typing-extensions in /home/tadros0/.local/lib/python3.9/site-packages (from qiskit>=1.1.0->qiskit-aer) (4.13.2)\n",
      "Requirement already satisfied: stevedore>=3.0.0 in /home/tadros0/.local/lib/python3.9/site-packages (from qiskit>=1.1.0->qiskit-aer) (5.4.1)\n",
      "Requirement already satisfied: rustworkx>=0.15.0 in /home/tadros0/.local/lib/python3.9/site-packages (from qiskit>=1.1.0->qiskit-aer) (0.16.0)\n",
      "Requirement already satisfied: sympy>=1.3 in /apps/cent7/jupyterhub/lib/python3.9/site-packages (from qiskit>=1.1.0->qiskit-aer) (1.9)\n",
      "Requirement already satisfied: python-dateutil>=2.8.0 in /apps/cent7/jupyterhub/lib/python3.9/site-packages (from qiskit>=1.1.0->qiskit-aer) (2.8.2)\n",
      "Requirement already satisfied: symengine<0.14,>=0.11 in /home/tadros0/.local/lib/python3.9/site-packages (from qiskit>=1.1.0->qiskit-aer) (0.13.0)\n",
      "Requirement already satisfied: six>=1.5 in /apps/cent7/jupyterhub/lib/python3.9/site-packages (from python-dateutil>=2.8.0->qiskit>=1.1.0->qiskit-aer) (1.16.0)\n",
      "Requirement already satisfied: pbr>=2.0.0 in /home/tadros0/.local/lib/python3.9/site-packages (from stevedore>=3.0.0->qiskit>=1.1.0->qiskit-aer) (6.1.1)\n",
      "Requirement already satisfied: setuptools in /apps/cent7/jupyterhub/lib/python3.9/site-packages (from pbr>=2.0.0->stevedore>=3.0.0->qiskit>=1.1.0->qiskit-aer) (58.0.4)\n",
      "Requirement already satisfied: mpmath>=0.19 in /apps/cent7/jupyterhub/lib/python3.9/site-packages (from sympy>=1.3->qiskit>=1.1.0->qiskit-aer) (1.2.1)\n",
      "Note: you may need to restart the kernel to use updated packages.\n",
      "Defaulting to user installation because normal site-packages is not writeable\n",
      "Requirement already satisfied: pylatexenc in /home/tadros0/.local/lib/python3.9/site-packages (2.10)\n",
      "Note: you may need to restart the kernel to use updated packages.\n"
     ]
    }
   ],
   "source": [
    "%pip install qiskit\n",
    "%pip install --upgrade typing_extensions\n",
    "%pip install qiskit-aer\n",
    "%pip install pylatexenc"
   ]
  },
  {
   "cell_type": "code",
   "execution_count": 1,
   "id": "51b8e78b",
   "metadata": {},
   "outputs": [],
   "source": [
    "import secrets\n",
    "import pathlib\n",
    "import numpy as np\n",
    "from qiskit import QuantumCircuit, transpile\n",
    "from qiskit_aer import AerSimulator\n",
    "\n",
    "# Simulator backend\n",
    "backend = AerSimulator()\n",
    "rng = secrets.SystemRandom()"
   ]
  },
  {
   "cell_type": "markdown",
   "id": "4a024caf",
   "metadata": {},
   "source": [
    "## 2. Parameters"
   ]
  },
  {
   "cell_type": "code",
   "execution_count": 2,
   "id": "36297a30",
   "metadata": {},
   "outputs": [
    {
     "name": "stdout",
     "output_type": "stream",
     "text": [
      "Image bits to secure: 30752\n"
     ]
    }
   ],
   "source": [
    "# User parameters\n",
    "IMG_PATH        = pathlib.Path('download.png')\n",
    "BLOCK_SIZE      = 10\n",
    "\n",
    "# Ensure image exists and read bytes\n",
    "if not IMG_PATH.exists():\n",
    "    raise FileNotFoundError(f'Missing {IMG_PATH}')\n",
    "    \n",
    "# Read the bytes from the image\n",
    "img_bytes  = IMG_PATH.read_bytes()\n",
    "n_img_bits = len(img_bytes) * 8\n",
    "print(f\"Image bits to secure: {n_img_bits}\")"
   ]
  },
  {
   "cell_type": "markdown",
   "id": "7c45644d",
   "metadata": {},
   "source": [
    "## 3. Utility Functions"
   ]
  },
  {
   "cell_type": "code",
   "execution_count": 3,
   "id": "14866a30",
   "metadata": {},
   "outputs": [],
   "source": [
    "# Random n bits generator \n",
    "def random_bits(n):\n",
    "    return np.random.randint(2, size=n, dtype=int)\n",
    "\n",
    "# Map measurement outcomes {0,1} → eigenvalues {-1,+1} for CHSH correlation\n",
    "def to_pm1(bits):\n",
    "    return 1 - 2 * np.array(bits, dtype=int)\n",
    "\n",
    "# Compute the CHSH correlator E(a,b) = ⟨A·B⟩ over rounds where Alice’s and Bob’s settings equal (a,b)\n",
    "def correlation(a, b, A_set, B_set, A_res, B_res):\n",
    "    idx = (np.array(A_set)==a)&(np.array(B_set)==b)\n",
    "    if idx.sum()==0:\n",
    "        return np.nan\n",
    "    A = to_pm1(np.array(A_res)[idx])\n",
    "    B = to_pm1(np.array(B_res)[idx])\n",
    "    return np.mean(A*B)\n",
    "\n",
    "# Turns bits into bytes using numpy\n",
    "def bits_to_bytes(bits):\n",
    "    arr    = np.array(bits, dtype=np.uint8)\n",
    "    packed = np.packbits(arr)\n",
    "    return packed.tobytes()"
   ]
  },
  {
   "cell_type": "markdown",
   "id": "722606eb",
   "metadata": {},
   "source": [
    "## 4. E91 Emitter & Measurement Circuits"
   ]
  },
  {
   "cell_type": "code",
   "execution_count": 4,
   "id": "d5ff2e5d",
   "metadata": {},
   "outputs": [],
   "source": [
    "def emitter_circuit(size):\n",
    "    qc = QuantumCircuit(2*size, 2*size, name='Emitter')\n",
    "    for i in range(size):\n",
    "        qc.h(i)\n",
    "        qc.cx(i, i+size)\n",
    "        qc.z(i)  # |Φ+> -> |Ψ-> singlet\n",
    "    return qc\n",
    "\n",
    "def measure_circuit(alice_bases, bob_bases):\n",
    "    angles = {0: 0, 1: np.pi/4}\n",
    "    qc = QuantumCircuit(2*len(alice_bases), 2*len(alice_bases), name='Measure')\n",
    "    for i, (a, b) in enumerate(zip(alice_bases, bob_bases)):\n",
    "        qc.ry(-angles[a], i)\n",
    "        qc.ry(-angles[b], i+len(alice_bases))\n",
    "    qc.measure(range(2*len(alice_bases)), range(2*len(alice_bases)))\n",
    "    return qc"
   ]
  },
  {
   "cell_type": "code",
   "execution_count": 13,
   "id": "5bb55700-70ec-40bb-a22c-9f5bf91f6c90",
   "metadata": {
    "tags": []
   },
   "outputs": [
    {
     "data": {
      "image/png": "[encoded data removed]",
      "text/plain": [
       "<Figure size 864x576 with 1 Axes>"
      ]
     },
     "metadata": {},
     "output_type": "display_data"
    },
    {
     "data": {
      "image/png": "[encoded data removed]",
      "text/plain": [
       "<Figure size 864x576 with 1 Axes>"
      ]
     },
     "metadata": {},
     "output_type": "display_data"
    }
   ],
   "source": [
    "import matplotlib.pyplot as plt\n",
    "from qiskit.visualization import circuit_drawer\n",
    "\n",
    "# --- Assume emitter_circuit and measure_circuit are already defined ---\n",
    "qc_emitter = emitter_circuit(4)\n",
    "qc_measure = measure_circuit([0, 1, 0, 1], [1, 0, 1, 0])\n",
    "\n",
    "# Option 1: Increase figure size\n",
    "fig_em1, ax_em1 = plt.subplots(figsize=(12, 8))\n",
    "circuit_drawer(qc_emitter, output='mpl', ax=ax_em1)\n",
    "ax_em1.set_title(\"Emitter Circuit (12×8)\")\n",
    "\n",
    "fig_me1, ax_me1 = plt.subplots(figsize=(12, 8))\n",
    "circuit_drawer(qc_measure, output='mpl', ax=ax_me1)\n",
    "ax_me1.set_title(\"Measurement Circuit (12×8)\")\n",
    "\n",
    "plt.show()\n",
    "\n",
    "# Option 2: Use the `scale` parameter to enlarge gate labels\n",
    "fig_em2 = qc_emitter.draw(output='mpl', scale=2.0)\n",
    "fig_em2.suptitle(\"Emitter Circuit (scale=2.0)\")\n",
    "\n",
    "fig_me2 = qc_measure.draw(output='mpl', scale=2.0)\n",
    "fig_me2.suptitle(\"Measurement Circuit (scale=2.0)\")\n",
    "\n",
    "plt.show()"
   ]
  },
  {
   "cell_type": "markdown",
   "id": "0ea0dabb",
   "metadata": {},
   "source": [
    "## 5. Run Protocol & Collect Data"
   ]
  },
  {
   "cell_type": "code",
   "execution_count": 22,
   "id": "1d591031",
   "metadata": {},
   "outputs": [
    {
     "name": "stdout",
     "output_type": "stream",
     "text": [
      "Round 6090: collected 30724 bits\n",
      "Total rounds: 6096\n"
     ]
    }
   ],
   "source": [
    "# Collect data for CHSH\n",
    "alice_settings = []\n",
    "bob_settings   = []\n",
    "alice_results  = []\n",
    "bob_results    = []\n",
    "alice_key = []\n",
    "bob_key = []\n",
    "\n",
    "rounds = 0\n",
    "while len(alice_key) < n_img_bits:\n",
    "    # Increments round count and generates random basis for each side\n",
    "    rounds += 1\n",
    "    bases_A = random_bits(BLOCK_SIZE)\n",
    "    bases_B = random_bits(BLOCK_SIZE)\n",
    "    \n",
    "    # Build and run the E91 entangler + measurement circuit \n",
    "    qc = emitter_circuit(BLOCK_SIZE).compose(measure_circuit(bases_A, bases_B))\n",
    "    compiled = transpile(qc, backend)\n",
    "    counts = backend.run(compiled, shots=1).result().get_counts()\n",
    "    bitstr = next(iter(counts))\n",
    "    meas = np.array(list(map(int, bitstr[::-1])))\n",
    "    meas_A = meas[:BLOCK_SIZE]\n",
    "    meas_B = meas[BLOCK_SIZE:]\n",
    "    \n",
    "    # Record for Bell test\n",
    "    alice_settings.extend(bases_A.tolist())\n",
    "    bob_settings.extend(bases_B.tolist())\n",
    "    alice_results.extend(meas_A.tolist())\n",
    "    bob_results.extend(meas_B.tolist())\n",
    "    \n",
    "    # Sift key\n",
    "    mask = bases_A == bases_B\n",
    "    alice_key.extend(meas_A[mask].tolist())\n",
    "    bob_key.extend(meas_B[mask].tolist())\n",
    "    \n",
    "    if rounds % 10 == 0:\n",
    "        print(f\"Round {rounds}: collected {len(alice_key)} bits\", end='\\r')\n",
    "print()\n",
    "print(f\"Total rounds: {rounds}\")"
   ]
  },
  {
   "cell_type": "markdown",
   "id": "744e1b88",
   "metadata": {},
   "source": [
    "## 6. Bell‐Inequality (CHSH) Test"
   ]
  },
  {
   "cell_type": "code",
   "execution_count": 28,
   "id": "0a24c387",
   "metadata": {},
   "outputs": [
    {
     "name": "stdout",
     "output_type": "stream",
     "text": [
      "E00=1.000, E01=0.704, E10=0.713, E11=-0.000\n",
      "CHSH S=2.418\n",
      "✅ Bell violation detected — channel secure\n"
     ]
    }
   ],
   "source": [
    "E00 = correlation(0,0, alice_settings, bob_settings, alice_results, bob_results)\n",
    "E01 = correlation(0,1, alice_settings, bob_settings, alice_results, bob_results)\n",
    "E10 = correlation(1,0, alice_settings, bob_settings, alice_results, bob_results)\n",
    "E11 = correlation(1,1, alice_settings, bob_settings, alice_results, bob_results)\n",
    "\n",
    "S = E00 + E01 + E10 - E11\n",
    "\n",
    "print(f\"E00={E00:.3f}, E01={E01:.3f}, E10={E10:.3f}, E11={E11:.3f}\")\n",
    "print(f\"CHSH S={S:.3f}\")\n",
    "if S > 2:\n",
    "    print(\"✅ Bell violation detected — channel secure\")\n",
    "else:\n",
    "    print(\"⚠️ No violation — possible eavesdropper\")"
   ]
  },
  {
   "cell_type": "markdown",
   "id": "35375d87",
   "metadata": {},
   "source": [
    "## 7. Encrypt & Decrypt Image"
   ]
  },
  {
   "cell_type": "code",
   "execution_count": 23,
   "id": "bf1a8bbc",
   "metadata": {},
   "outputs": [
    {
     "name": "stdout",
     "output_type": "stream",
     "text": [
      "✅ Image encrypted and decrypted successfully!\n"
     ]
    }
   ],
   "source": [
    "# Use first n_img_bits from sifted key\n",
    "key_bits = bob_key[:n_img_bits]\n",
    "\n",
    "key_bytes = bits_to_bytes(key_bits)\n",
    "cipher = bytes(m ^ k for m, k in zip(img_bytes, key_bytes))\n",
    "dec = bytes(c ^ k for c, k in zip(cipher, key_bytes))\n",
    "\n",
    "dec_path = IMG_PATH.with_name(IMG_PATH.stem + '_decrypted.png')\n",
    "dec_path.write_bytes(dec)\n",
    "\n",
    "if dec == img_bytes:\n",
    "    print(\"✅ Image encrypted and decrypted successfully!\")"
   ]
  }
 ],
 "metadata": {
  "kernelspec": {
   "display_name": "Python 3.9 (Default)",
   "language": "python",
   "name": "python3"
  },
  "language_info": {
   "codemirror_mode": {
    "name": "ipython",
    "version": 3
   },
   "file_extension": ".py",
   "mimetype": "text/x-python",
   "name": "python",
   "nbconvert_exporter": "python",
   "pygments_lexer": "ipython3",
   "version": "3.9.7"
  }
 },
 "nbformat": 4,
 "nbformat_minor": 5
}
